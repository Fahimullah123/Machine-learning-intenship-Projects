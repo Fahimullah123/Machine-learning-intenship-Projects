{
 "cells": [
  {
   "cell_type": "code",
   "execution_count": 5,
   "metadata": {},
   "outputs": [
    {
     "name": "stdout",
     "output_type": "stream",
     "text": [
      "     Name  Age\n",
      "0   Fahim   19\n",
      "1   Altaf   20\n",
      "2  Raheem   30\n"
     ]
    }
   ],
   "source": [
    "# Create Dataframe\n",
    "\n",
    "import pandas as pd \n",
    "\n",
    "Dataframe={\n",
    "\n",
    "    'Name' : [\"Fahim\",\"Altaf\",\"Raheem\"],\n",
    "    'Age' :  [19,20,30]\n",
    "}\n",
    "\n",
    "data=pd.DataFrame(Dataframe)\n",
    "print(data)"
   ]
  },
  {
   "cell_type": "code",
   "execution_count": 11,
   "metadata": {},
   "outputs": [
    {
     "name": "stdout",
     "output_type": "stream",
     "text": [
      "a    12\n",
      "b    32\n",
      "c    12\n",
      "d    32\n",
      "e    12\n",
      "dtype: int64\n"
     ]
    }
   ],
   "source": [
    "# Create a simple Pandas Series from a list:\n",
    "\n",
    "age = [12,32,12,32,12]\n",
    "\n",
    "data=pd.Series(age, index=[\"a\",\"b\",\"c\",\"d\",\"e\"])\n",
    "print(data)"
   ]
  },
  {
   "cell_type": "code",
   "execution_count": 17,
   "metadata": {},
   "outputs": [
    {
     "name": "stdout",
     "output_type": "stream",
     "text": [
      "1     Fahim\n",
      "2    Raheem\n",
      "3      Jeye\n",
      "dtype: object\n"
     ]
    }
   ],
   "source": [
    "#Example\n",
    "#Create a simple Pandas Series from a dictionary:\n",
    "\n",
    "data={1:'Fahim',2:'Raheem',3:'Jeye'}\n",
    "myvar=pd.Series(data)\n",
    "print(myvar)"
   ]
  },
  {
   "cell_type": "code",
   "execution_count": 20,
   "metadata": {},
   "outputs": [
    {
     "name": "stdout",
     "output_type": "stream",
     "text": [
      "Raheem\n"
     ]
    }
   ],
   "source": [
    "print(myvar.loc[2])"
   ]
  }
 ],
 "metadata": {
  "kernelspec": {
   "display_name": "Python 3 (ipykernel)",
   "language": "python",
   "name": "python3"
  },
  "language_info": {
   "codemirror_mode": {
    "name": "ipython",
    "version": 3
   },
   "file_extension": ".py",
   "mimetype": "text/x-python",
   "name": "python",
   "nbconvert_exporter": "python",
   "pygments_lexer": "ipython3",
   "version": "3.11.5"
  }
 },
 "nbformat": 4,
 "nbformat_minor": 2
}
